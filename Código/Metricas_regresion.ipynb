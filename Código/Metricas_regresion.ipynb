{
 "cells": [
  {
   "cell_type": "markdown",
   "metadata": {},
   "source": [
    "En Scikit-Learn, se puede evaluar el rendimiento de modelos de regresión utilizando varias métricas de validación. Estas métricas ayudan a medir la precisión de las predicciones del modelo comparando los valores predichos con los valores reales. Aquí te comparto algunas de las métricas más comunes:\n",
    "\n",
    "1. **Error Medio Absoluto (MAE)**: mide el promedio de las diferencias absolutas entre las predicciones y los valores reales.\n",
    "   ```python\n",
    "   from sklearn.metrics import mean_absolute_error\n",
    "   mae = mean_absolute_error(y_true, y_pred)\n",
    "   ```\n",
    "\n",
    "2. **Error Cuadrático Medio (MSE)**: mide el promedio de los errores al cuadrado entre las predicciones y los valores reales, penalizando más los errores grandes.\n",
    "   ```python\n",
    "   from sklearn.metrics import mean_squared_error\n",
    "   mse = mean_squared_error(y_true, y_pred)\n",
    "   ```\n",
    "\n",
    "3. **Raíz del Error Cuadrático Medio (RMSE)**: es la raíz cuadrada del MSE y proporciona una medida en las mismas unidades que la variable objetivo.\n",
    "   ```python\n",
    "   rmse = mean_squared_error(y_true, y_pred, squared=False)\n",
    "   ```\n",
    "\n",
    "4. **Error Cuadrático Medio Logarítmico (MSLE)**: calcula el error cuadrático medio entre el logaritmo de las predicciones y los valores reales. Es útil cuando los valores de la variable objetivo están en diferentes órdenes de magnitud.\n",
    "   ```python\n",
    "   from sklearn.metrics import mean_squared_log_error\n",
    "   msle = mean_squared_log_error(y_true, y_pred)\n",
    "   ```\n",
    "\n",
    "5. **Coeficiente de Determinación (R^2 Score)**: mide la proporción de la varianza explicada por el modelo. Un valor de 1 indica que el modelo explica completamente la varianza, mientras que valores negativos indican que el modelo es peor que una línea base simple.\n",
    "   ```python\n",
    "   from sklearn.metrics import r2_score\n",
    "   r2 = r2_score(y_true, y_pred)\n",
    "   ```\n",
    "\n",
    "6. **Mediana del Error Absoluto (MedAE)**: mide la mediana de los errores absolutos. Es útil para modelos robustos a valores atípicos.\n",
    "   ```python\n",
    "   from sklearn.metrics import median_absolute_error\n",
    "   medae = median_absolute_error(y_true, y_pred)\n",
    "   ```\n",
    "\n",
    "Estas métricas te permiten evaluar de diferentes formas el rendimiento de los modelos de regresión y elegir la que mejor se ajuste al objetivo del análisis."
   ]
  },
  {
   "cell_type": "markdown",
   "metadata": {},
   "source": [
    "| Métrica                  | Descripción                                                                                      | Rango de Valores | Ventajas                                 | Limitaciones                        | Casos de Uso                                          |\n",
    "|--------------------------|--------------------------------------------------------------------------------------------------|------------------|------------------------------------------|-------------------------------------|-------------------------------------------------------|\n",
    "| **MAE**                  | Promedio de las diferencias absolutas entre predicciones y valores reales                         | $[0, \\infty)$ | Fácil interpretación en unidades reales  | No penaliza grandes errores         | Útil cuando todos los errores son igualmente graves   |\n",
    "| **MSE**                  | Promedio de los errores al cuadrado                                                               | $[0, \\infty)$ | Penaliza más los errores grandes         | Sensible a valores atípicos         | Problemas donde los errores grandes son críticos      |\n",
    "| **RMSE**                 | Raíz cuadrada del MSE, proporciona unidades similares a la variable objetivo                      | $[0, \\infty)$ | Proporciona la magnitud en unidades reales | Aún sensible a valores atípicos     | Similar a MSE, pero fácil de interpretar en unidades reales |\n",
    "| **MSLE**                 | Error cuadrático medio logarítmico                                                                | $[0, \\infty)$ | Penaliza menos los errores pequeños      | Solo válido para valores positivos  | Cuando las predicciones y valores reales tienen diferentes órdenes de magnitud |\n",
    "| **R^2 Score**            | Proporción de la varianza explicada por el modelo                                                | $(-\\infty, 1]$ | Mide la calidad del ajuste del modelo    | No muestra el tamaño del error      | Evaluación global del ajuste del modelo               |\n",
    "| **MedAE**                | Mediana de los errores absolutos                                                                  | $[0, \\infty)$ | Robusto frente a valores atípicos        | No penaliza grandes errores         | Para datos con outliers o cuando se busca robustez    |\n",
    "\n",
    "### Casos de Uso Específicos\n",
    "\n",
    "1. **MAE**: Útil para aplicaciones donde todos los errores tienen la misma gravedad. Por ejemplo, en el cálculo de la demanda diaria de un producto.\n",
    "\n",
    "2. **MSE y RMSE**: Son adecuados para modelos donde los errores grandes son penalizados más, como en el pronóstico de precios de viviendas, donde es importante reducir los errores significativos.\n",
    "\n",
    "3. **MSLE**: Aplicable en casos donde los valores de la variable objetivo pueden variar en órdenes de magnitud, como la predicción de crecimiento poblacional o ingresos.\n",
    "\n",
    "4. **R^2 Score**: Es útil para evaluar la calidad global de ajuste en modelos explicativos, donde se desea saber qué proporción de la variación en la variable dependiente es explicada por el modelo. \n",
    "\n",
    "5. **MedAE**: Adecuada para situaciones con datos atípicos o en aplicaciones donde se requiere robustez frente a valores extremos, como en la predicción de la mediana de ingresos en encuestas de hogares."
   ]
  }
 ],
 "metadata": {
  "language_info": {
   "name": "python"
  }
 },
 "nbformat": 4,
 "nbformat_minor": 2
}
