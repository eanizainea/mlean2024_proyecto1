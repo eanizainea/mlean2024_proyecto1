{
 "cells": [
  {
   "cell_type": "markdown",
   "id": "f6ecd280",
   "metadata": {},
   "source": [
    "\n",
    "### Aplicando los Valores de Shapley en el Aprendizaje Automático\n",
    "\n",
    "### Objetivos\n",
    "1. Comprender los fundamentos de la teoría de juegos cooperativos y los valores de Shapley.\n",
    "2. Aprender cómo los valores de Shapley se aplican en SHAP para interpretar modelos de aprendizaje automático.\n",
    "3. Analizar las propiedades y ventajas de SHAP en la interpretabilidad de modelos.\n",
    "4. Aplicar los conceptos aprendidos en ejemplos prácticos.\n",
    "\n",
    "### Introducción a la Interpretabilidad en el Aprendizaje Automático\n",
    "- La interpretabilidad es crucial en aplicaciones sensibles (salud, finanzas, justicia).\n",
    "- **SHAP** proporciona explicaciones consistentes y localmente precisas de las predicciones de un modelo.\n"
   ]
  },
  {
   "cell_type": "markdown",
   "id": "1f3e35ee",
   "metadata": {},
   "source": [
    "\n",
    "## Teoría de Juegos Cooperativos y Valores de Shapley\n",
    "\n",
    "### Conceptos Básicos\n",
    "- **Teoría de Juegos Cooperativos:** estudia cómo los jugadores pueden formar coaliciones y cómo distribuir las ganancias obtenidas.\n",
    "- **Jugadores:** Participantes que contribuyen al resultado (en SHAP, las características del modelo).\n",
    "- **Coalición:** Subconjunto de jugadores que colaboran.\n",
    "\n",
    "### Valores de Shapley\n",
    "El valor de Shapley para el jugador \\( i \\) en una coalición es dado por la siguiente fórmula:\n",
    "\n",
    "$$\n",
    "\\phi_i = \\sum_{S \\subseteq N \\setminus \\{i\\}} \\frac{|S|!(|N| - |S| - 1)!}{|N|!} [v(S \\cup \\{i\\}) - v(S)]\n",
    "$$\n",
    "\n",
    "Donde:\n",
    "- $ N $: Conjunto total de jugadores.\n",
    "- $ S $: Coalición sin el jugador \\( i \\).\n",
    "- $ |S| $: Número de jugadores en \\( S \\).\n",
    "- $ v(S) $: Valor de la coalición \\( S \\).\n",
    "\n",
    "### Propiedades Clave\n",
    "1. **Eficiencia:** La suma de los valores de Shapley es igual al valor total del juego.\n",
    "2. **Simetría:** Si dos jugadores contribuyen de manera idéntica, reciben el mismo valor.\n",
    "3. **Dummy Player (Jugador Nulo):** Un jugador que no aporta valor adicional recibe un valor de Shapley de cero.\n",
    "4. **Aditividad:** Para dos juegos \\( v \\) y \\( w \\), el valor combinado es la suma de sus valores Shapley.\n"
   ]
  },
  {
   "cell_type": "markdown",
   "id": "b13be566",
   "metadata": {},
   "source": [
    "\n",
    "## Aplicación de los Valores de Shapley en SHAP\n",
    "\n",
    "### Analogía con el Aprendizaje Automático\n",
    "- **Jugadores:** Características o variables de entrada del modelo.\n",
    "- **Coaliciones:** Subconjuntos de características.\n",
    "- **Función de Valor \\( v(S) \\):** La predicción del modelo usando solo las características en \\( S \\).\n",
    "\n",
    "### Definición de la Función de Valor en SHAP\n",
    "$$\n",
    "v(S) = \\mathbb{E}[f(X) | X_S]\n",
    "$$\n",
    "\n",
    "Donde:\n",
    "- \\( f(X) \\): Función de predicción del modelo.\n",
    "- \\( X_S \\): Valores de las características en \\( S \\).\n",
    "- La esperanza se toma sobre la distribución de \\( X_{N \\setminus S} \\).\n",
    "\n",
    "### Ejemplo con Código en Python\n",
    "A continuación, crearemos un ejemplo usando un modelo de clasificación con SHAP.\n"
   ]
  },
  {
   "cell_type": "code",
   "execution_count": 13,
   "id": "606e03e2-4eb8-45bd-bdf9-d9934209b80b",
   "metadata": {},
   "outputs": [],
   "source": [
    "# Importar las librerías necesarias\n",
    "import shap\n",
    "import numpy as np\n",
    "import pandas as pd\n",
    "import matplotlib.pyplot as plt\n",
    "from sklearn.ensemble import RandomForestClassifier\n",
    "from sklearn.model_selection import train_test_split\n",
    "from sklearn.datasets import load_breast_cancer"
   ]
  },
  {
   "cell_type": "code",
   "execution_count": 15,
   "id": "9e1f2fe9",
   "metadata": {},
   "outputs": [],
   "source": [
    "# Configurar datos de ejemplo\n",
    "data = load_breast_cancer()\n",
    "X = pd.DataFrame(data.data, columns=data.feature_names)\n",
    "y = data.target\n",
    "\n",
    "# Dividir en entrenamiento y prueba\n",
    "X_train, X_test, y_train, y_test = train_test_split(X, y, test_size=0.2, random_state=42)\n"
   ]
  },
  {
   "cell_type": "code",
   "execution_count": 19,
   "id": "3daaac7a-3f8a-40c2-9005-b2ab216e0ee8",
   "metadata": {},
   "outputs": [
    {
     "data": {
      "text/plain": [
       "array([0, 0, 0, 0, 0, 0, 0, 0, 0, 0, 0, 0, 0, 0, 0, 0, 0, 0, 0, 1, 1, 1,\n",
       "       0, 0, 0, 0, 0, 0, 0, 0, 0, 0, 0, 0, 0, 0, 0, 1, 0, 0, 0, 0, 0, 0,\n",
       "       0, 0, 1, 0, 1, 1, 1, 1, 1, 0, 0, 1, 0, 0, 1, 1, 1, 1, 0, 1, 0, 0,\n",
       "       1, 1, 1, 1, 0, 1, 0, 0, 1, 0, 1, 0, 0, 1, 1, 1, 0, 0, 1, 0, 0, 0,\n",
       "       1, 1, 1, 0, 1, 1, 0, 0, 1, 1, 1, 0, 0, 1, 1, 1, 1, 0, 1, 1, 0, 1,\n",
       "       1, 1, 1, 1, 1, 1, 1, 0, 0, 0, 1, 0, 0, 1, 1, 1, 0, 0, 1, 0, 1, 0,\n",
       "       0, 1, 0, 0, 1, 1, 0, 1, 1, 0, 1, 1, 1, 1, 0, 1, 1, 1, 1, 1, 1, 1,\n",
       "       1, 1, 0, 1, 1, 1, 1, 0, 0, 1, 0, 1, 1, 0, 0, 1, 1, 0, 0, 1, 1, 1,\n",
       "       1, 0, 1, 1, 0, 0, 0, 1, 0, 1, 0, 1, 1, 1, 0, 1, 1, 0, 0, 1, 0, 0,\n",
       "       0, 0, 1, 0, 0, 0, 1, 0, 1, 0, 1, 1, 0, 1, 0, 0, 0, 0, 1, 1, 0, 0,\n",
       "       1, 1, 1, 0, 1, 1, 1, 1, 1, 0, 0, 1, 1, 0, 1, 1, 0, 0, 1, 0, 1, 1,\n",
       "       1, 1, 0, 1, 1, 1, 1, 1, 0, 1, 0, 0, 0, 0, 0, 0, 0, 0, 0, 0, 0, 0,\n",
       "       0, 0, 1, 1, 1, 1, 1, 1, 0, 1, 0, 1, 1, 0, 1, 1, 0, 1, 0, 0, 1, 1,\n",
       "       1, 1, 1, 1, 1, 1, 1, 1, 1, 1, 1, 0, 1, 1, 0, 1, 0, 1, 1, 1, 1, 1,\n",
       "       1, 1, 1, 1, 1, 1, 1, 1, 1, 0, 1, 1, 1, 0, 1, 0, 1, 1, 1, 1, 0, 0,\n",
       "       0, 1, 1, 1, 1, 0, 1, 0, 1, 0, 1, 1, 1, 0, 1, 1, 1, 1, 1, 1, 1, 0,\n",
       "       0, 0, 1, 1, 1, 1, 1, 1, 1, 1, 1, 1, 1, 0, 0, 1, 0, 0, 0, 1, 0, 0,\n",
       "       1, 1, 1, 1, 1, 0, 1, 1, 1, 1, 1, 0, 1, 1, 1, 0, 1, 1, 0, 0, 1, 1,\n",
       "       1, 1, 1, 1, 0, 1, 1, 1, 1, 1, 1, 1, 0, 1, 1, 1, 1, 1, 0, 1, 1, 0,\n",
       "       1, 1, 1, 1, 1, 1, 1, 1, 1, 1, 1, 1, 0, 1, 0, 0, 1, 0, 1, 1, 1, 1,\n",
       "       1, 0, 1, 1, 0, 1, 0, 1, 1, 0, 1, 0, 1, 1, 1, 1, 1, 1, 1, 1, 0, 0,\n",
       "       1, 1, 1, 1, 1, 1, 0, 1, 1, 1, 1, 1, 1, 1, 1, 1, 1, 0, 1, 1, 1, 1,\n",
       "       1, 1, 1, 0, 1, 0, 1, 1, 0, 1, 1, 1, 1, 1, 0, 0, 1, 0, 1, 0, 1, 1,\n",
       "       1, 1, 1, 0, 1, 1, 0, 1, 0, 1, 0, 0, 1, 1, 1, 0, 1, 1, 1, 1, 1, 1,\n",
       "       1, 1, 1, 1, 1, 0, 1, 0, 0, 1, 1, 1, 1, 1, 1, 1, 1, 1, 1, 1, 1, 1,\n",
       "       1, 1, 1, 1, 1, 1, 1, 1, 1, 1, 1, 1, 0, 0, 0, 0, 0, 0, 1])"
      ]
     },
     "execution_count": 19,
     "metadata": {},
     "output_type": "execute_result"
    }
   ],
   "source": [
    "y"
   ]
  },
  {
   "cell_type": "code",
   "execution_count": null,
   "id": "5ae4dc3e",
   "metadata": {},
   "outputs": [],
   "source": [
    "\n",
    "# Entrenar el modelo\n",
    "model = RandomForestClassifier(n_estimators=100, random_state=42)\n",
    "model.fit(X_train, y_train)\n"
   ]
  },
  {
   "cell_type": "code",
   "execution_count": null,
   "id": "43e50659",
   "metadata": {},
   "outputs": [],
   "source": [
    "\n",
    "# Crear explicador SHAP\n",
    "explainer = shap.TreeExplainer(model)\n",
    "shap_values = explainer.shap_values(X_test)\n"
   ]
  },
  {
   "cell_type": "markdown",
   "id": "a590329f",
   "metadata": {},
   "source": [
    "\n",
    "### Visualización de Valores SHAP\n",
    "\n",
    "A continuación, visualizaremos los valores SHAP para entender cómo cada característica afecta las predicciones del modelo.\n"
   ]
  },
  {
   "cell_type": "code",
   "execution_count": null,
   "id": "39fc5ac4",
   "metadata": {},
   "outputs": [],
   "source": [
    "\n",
    "# Gráfico de resumen\n",
    "shap.summary_plot(shap_values[1], X_test)\n"
   ]
  },
  {
   "cell_type": "code",
   "execution_count": null,
   "id": "3c9c01e6",
   "metadata": {},
   "outputs": [],
   "source": [
    "\n",
    "# Gráfico de dependencia\n",
    "shap.dependence_plot('mean radius', shap_values[1], X_test)\n"
   ]
  },
  {
   "cell_type": "markdown",
   "id": "5b8d2982",
   "metadata": {},
   "source": [
    "\n",
    "# Conclusión\n",
    "\n",
    "- **SHAP** proporciona una interpretación teóricamente justificada de cómo las características afectan las predicciones de un modelo.\n",
    "- Basado en la teoría de juegos y valores de Shapley, SHAP distribuye la \"responsabilidad\" de la predicción entre las características de manera justa.\n",
    "  \n",
    "## Preguntas para Evaluación y Discusión\n",
    "1. ¿Por qué es importante la interpretabilidad en los modelos de aprendizaje automático?\n",
    "2. Explica cómo los valores de Shapley garantizan una distribución justa de las contribuciones.\n",
    "3. ¿Cuáles son las limitaciones de SHAP y cómo podrían abordarse?\n"
   ]
  }
 ],
 "metadata": {
  "kernelspec": {
   "display_name": "Python 3 (ipykernel)",
   "language": "python",
   "name": "python3"
  },
  "language_info": {
   "codemirror_mode": {
    "name": "ipython",
    "version": 3
   },
   "file_extension": ".py",
   "mimetype": "text/x-python",
   "name": "python",
   "nbconvert_exporter": "python",
   "pygments_lexer": "ipython3",
   "version": "3.11.7"
  }
 },
 "nbformat": 4,
 "nbformat_minor": 5
}
